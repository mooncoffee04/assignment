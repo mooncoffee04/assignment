{
 "cells": [
  {
   "cell_type": "code",
   "execution_count": 8,
   "id": "39389643",
   "metadata": {},
   "outputs": [],
   "source": [
    "from neo4j import GraphDatabase\n",
    "import os\n",
    "from dotenv import load_dotenv\n",
    "\n",
    "# Load env\n",
    "load_dotenv()\n",
    "\n",
    "NEO4J_URI = os.getenv(\"NEO4J_URI\")\n",
    "NEO4J_USER = os.getenv(\"NEO4J_USER\")\n",
    "NEO4J_PASSWORD = os.getenv(\"NEO4J_PASSWORD\")\n",
    "\n",
    "driver = GraphDatabase.driver(NEO4J_URI, auth=(NEO4J_USER, NEO4J_PASSWORD))"
   ]
  },
  {
   "cell_type": "code",
   "execution_count": 9,
   "id": "b9cfc603",
   "metadata": {},
   "outputs": [
    {
     "name": "stdout",
     "output_type": "stream",
     "text": [
      "<Record doctor_id='D001' doctor_name='Dr. Asha Mehta' role='Cardiologist'>\n",
      "<Record doctor_id='D002' doctor_name='Dr. Vivek Nair' role='Neurologist'>\n",
      "<Record doctor_id='D003' doctor_name='Dr. Reena Gupta' role='Diabetologist'>\n",
      "<Record doctor_id='D004' doctor_name='Dr. Arjun Reddy' role='Oncologist'>\n"
     ]
    }
   ],
   "source": [
    "from neo4j import GraphDatabase\n",
    "\n",
    "uri = \"neo4j+s://af6b3f00.databases.neo4j.io\"\n",
    "user = \"neo4j\"\n",
    "password = \"6SAddHRZhUD4XFxGkOhIRAHBTwzhIXvt_e8kLP1WhZ8\"\n",
    "\n",
    "driver = GraphDatabase.driver(uri, auth=(user, password))\n",
    "\n",
    "with driver.session() as session:\n",
    "    result = session.run(\"MATCH (d:Doctor) RETURN d.id AS doctor_id, d.name AS doctor_name, d.role AS role\")\n",
    "    for record in result:\n",
    "        print(record)"
   ]
  },
  {
   "cell_type": "code",
   "execution_count": 4,
   "id": "eb748215",
   "metadata": {},
   "outputs": [
    {
     "name": "stdout",
     "output_type": "stream",
     "text": [
      "<Record case_id='C001' summary='Complains of chest tightness during exertion, shortness of breath and fatigue. Suspected angina.' doctor_id='D001'>\n",
      "<Record case_id='C002' summary='Reports palpitations, anxiety, and mild chest discomfort. Possible arrhythmia.' doctor_id='D001'>\n",
      "<Record case_id='C003' summary='Sudden shortness of breath, swelling in legs, and past hypertension. Possible congestive heart failure.' doctor_id='D001'>\n",
      "<Record case_id='C004' summary='Complains of frequent headaches, light sensitivity, and nausea. Likely migraine.' doctor_id='D002'>\n",
      "<Record case_id='C005' summary='Patient disoriented, shows slurred speech and loss of coordination. Stroke suspected.' doctor_id='D002'>\n",
      "<Record case_id='C006' summary='Tingling sensation in limbs and chronic fatigue. Possible multiple sclerosis.' doctor_id='D002'>\n",
      "<Record case_id='C007' summary='Complains of excessive thirst, frequent urination, and blurry vision. Newly diagnosed diabetes.' doctor_id='D003'>\n",
      "<Record case_id='C008' summary='High fasting blood sugar and numbness in feet. Diabetic neuropathy suspected.' doctor_id='D003'>\n",
      "<Record case_id='C009' summary='Fatigue, weight gain, insulin resistance signs. Metabolic syndrome suspected.' doctor_id='D003'>\n",
      "<Record case_id='C010' summary='Reports unexplained weight loss, persistent cough, and fatigue. Lung cancer under evaluation.' doctor_id='D004'>\n",
      "<Record case_id='C011' summary='Lump in breast detected, with recent imaging showing irregular mass. Possible breast carcinoma.' doctor_id='D004'>\n",
      "<Record case_id='C012' summary='Presents with frequent fevers, swollen lymph nodes, and night sweats. Lymphoma under investigation.' doctor_id='D004'>\n"
     ]
    }
   ],
   "source": [
    "from neo4j import GraphDatabase\n",
    "\n",
    "uri = \"neo4j+s://af6b3f00.databases.neo4j.io\"\n",
    "user = \"neo4j\"\n",
    "password = \"6SAddHRZhUD4XFxGkOhIRAHBTwzhIXvt_e8kLP1WhZ8\"\n",
    "\n",
    "driver = GraphDatabase.driver(uri, auth=(user, password))\n",
    "\n",
    "with driver.session() as session:\n",
    "    result = session.run(\"\"\"\n",
    "        MATCH (d:Doctor)-[:HANDLES]->(c:Case)\n",
    "        RETURN c.case_id AS case_id, c.case_summary AS summary, d.id AS doctor_id\n",
    "    \"\"\")\n",
    "    for record in result:\n",
    "        print(record)"
   ]
  },
  {
   "cell_type": "code",
   "execution_count": 6,
   "id": "4dd175d6",
   "metadata": {},
   "outputs": [
    {
     "name": "stdout",
     "output_type": "stream",
     "text": [
      "✅ All existing Case nodes deleted.\n"
     ]
    }
   ],
   "source": [
    "with driver.session() as session:\n",
    "    session.run(\"MATCH (c:Case) DETACH DELETE c\")\n",
    "print(\"✅ All existing Case nodes deleted.\")"
   ]
  },
  {
   "cell_type": "code",
   "execution_count": 10,
   "id": "89e42923",
   "metadata": {},
   "outputs": [
    {
     "name": "stdout",
     "output_type": "stream",
     "text": [
      "<Record id='D002' password='lavu04'>\n",
      "<Record id='D003' password='12345'>\n"
     ]
    }
   ],
   "source": [
    "from neo4j import GraphDatabase\n",
    "\n",
    "uri = \"neo4j+s://af6b3f00.databases.neo4j.io\"\n",
    "user = \"neo4j\"\n",
    "password = \"6SAddHRZhUD4XFxGkOhIRAHBTwzhIXvt_e8kLP1WhZ8\"\n",
    "\n",
    "driver = GraphDatabase.driver(uri, auth=(user, password))\n",
    "\n",
    "with driver.session() as session:\n",
    "    result = session.run(\"MATCH (d:DoctorLogin) RETURN d.id AS id, d.password AS password\")\n",
    "    for record in result:\n",
    "        print(record)"
   ]
  },
  {
   "cell_type": "code",
   "execution_count": 11,
   "id": "38046d7a",
   "metadata": {},
   "outputs": [],
   "source": [
    "with driver.session() as session:\n",
    "    session.run(\"\"\"\n",
    "        CREATE INDEX doctor_login_index IF NOT EXISTS\n",
    "        FOR (d:DoctorLogin)\n",
    "        ON (d.id)\n",
    "    \"\"\")"
   ]
  },
  {
   "cell_type": "code",
   "execution_count": 5,
   "id": "6bcddeb0",
   "metadata": {},
   "outputs": [],
   "source": [
    "from neo4j import GraphDatabase\n",
    "\n",
    "uri = \"neo4j+s://af6b3f00.databases.neo4j.io\"\n",
    "user = \"neo4j\"\n",
    "password = \"6SAddHRZhUD4XFxGkOhIRAHBTwzhIXvt_e8kLP1WhZ8\"\n",
    "\n",
    "driver = GraphDatabase.driver(uri, auth=(user, password))\n",
    "\n",
    "with driver.session() as session:\n",
    "    session.run(\"\"\"\n",
    "        MATCH (c:Case) \n",
    "        WHERE c.voice_note_link IS NULL\n",
    "        SET c.voice_note_link = \"\"\n",
    "    \"\"\")"
   ]
  },
  {
   "cell_type": "code",
   "execution_count": 1,
   "id": "cc2b888b",
   "metadata": {},
   "outputs": [],
   "source": [
    "from vertexai.preview.generative_models import GenerativeModel\n",
    "import vertexai\n",
    "\n",
    "vertexai.init(project=\"gen-lang-client-0292554652\", location=\"us-central1\")"
   ]
  },
  {
   "cell_type": "code",
   "execution_count": 8,
   "id": "2d055683",
   "metadata": {},
   "outputs": [
    {
     "name": "stderr",
     "output_type": "stream",
     "text": [
      "100%|███████████████████████████████████████| 139M/139M [00:03<00:00, 45.3MiB/s]\n"
     ]
    },
    {
     "name": "stdout",
     "output_type": "stream",
     "text": [
      "🔍 Transcribing...\n",
      "\n",
      "📝 Transcription Result:\n",
      "\n",
      " Hello there, I am here to check what is happening. Yes everything okay. This is really bad. I think this is very concerning. I think you should do something and check. And yeah, I always wanted to be a dog.\n"
     ]
    }
   ],
   "source": [
    "import whisper\n",
    "\n",
    "# Load the model (tiny, base, small, medium, or large)\n",
    "model = whisper.load_model(\"base\")\n",
    "\n",
    "# Path to a sample audio file (make sure you have this or replace with your own)\n",
    "AUDIO_PATH = \"output_clean.wav\"  # You can also use .wav or .m4a\n",
    "\n",
    "# Transcribe the audio\n",
    "print(\"🔍 Transcribing...\")\n",
    "result = model.transcribe(AUDIO_PATH)\n",
    "\n",
    "# Show the output\n",
    "print(\"\\n📝 Transcription Result:\\n\")\n",
    "print(result[\"text\"])\n"
   ]
  },
  {
   "cell_type": "code",
   "execution_count": 1,
   "id": "9ee36e21",
   "metadata": {},
   "outputs": [],
   "source": [
    "from neo4j import GraphDatabase\n",
    "\n",
    "uri = \"neo4j+s://af6b3f00.databases.neo4j.io\"\n",
    "user = \"neo4j\"\n",
    "password = \"6SAddHRZhUD4XFxGkOhIRAHBTwzhIXvt_e8kLP1WhZ8\"\n",
    "\n",
    "driver = GraphDatabase.driver(uri, auth=(user, password))\n",
    "\n",
    "with driver.session() as session:\n",
    "    session.run(\"\"\"\n",
    "        MATCH (c:Case)\n",
    "        REMOVE c.lab_report_link, c.scan_link\n",
    "        RETURN c.case_id LIMIT 10\n",
    "    \"\"\")"
   ]
  },
  {
   "cell_type": "code",
   "execution_count": 3,
   "id": "8f0632cc",
   "metadata": {},
   "outputs": [],
   "source": [
    "\n",
    "uri = \"neo4j+s://af6b3f00.databases.neo4j.io\"\n",
    "user = \"neo4j\"\n",
    "password = \"6SAddHRZhUD4XFxGkOhIRAHBTwzhIXvt_e8kLP1WhZ8\"\n",
    "\n",
    "driver = GraphDatabase.driver(uri, auth=(user, password))\n",
    "\n",
    "with driver.session() as session:\n",
    "    result = session.run(\"\"\"\n",
    "        MATCH (c:Case {case_id: $case_id})-[:HAS_REPORT]->(r:Report)\n",
    "        RETURN r.type AS type, r.url AS url, r.uploaded_at AS uploaded_at\n",
    "    \"\"\", {\"case_id\": \"YOUR_CASE_ID\"})\n",
    "\n",
    "    for record in result:\n",
    "        print(f\"{record['type']} | {record['uploaded_at']} → {record['url']}\")\n"
   ]
  },
  {
   "cell_type": "code",
   "execution_count": 5,
   "id": "1b5e4a28",
   "metadata": {},
   "outputs": [],
   "source": [
    "\n",
    "\n",
    "\n",
    "uri = \"neo4j+s://af6b3f00.databases.neo4j.io\"\n",
    "user = \"neo4j\"\n",
    "password = \"6SAddHRZhUD4XFxGkOhIRAHBTwzhIXvt_e8kLP1WhZ8\"\n",
    "\n",
    "driver = GraphDatabase.driver(uri, auth=(user, password))\n",
    "\n",
    "with driver.session() as session:\n",
    "    result = session.run(\"\"\"\n",
    "        MATCH (c:Case {case_id: \"C010\"})-[:HAS_REPORT]->(r:UploadedReport)\n",
    "        RETURN r.url, r.type, r.uploaded_at\n",
    "    \"\"\")\n",
    "    for record in result:\n",
    "        print(record)"
   ]
  },
  {
   "cell_type": "code",
   "execution_count": 7,
   "id": "c4007ff9",
   "metadata": {},
   "outputs": [
    {
     "name": "stdout",
     "output_type": "stream",
     "text": [
      "<Record r=<Node element_id='4:3ace25ed-1aa2-4f82-8c65-ae158594b17b:31' labels=frozenset({'UploadedReport'}) properties={'uploaded_at': neo4j.time.DateTime(2025, 6, 24, 10, 30, 29, 312000000, tzinfo=<UTC>), 'type': 'lab', 'url': 'http://localhost:8888/seaweedfs/C010_lab_lab_report.pdf'}>>\n",
      "<Record r=<Node element_id='4:3ace25ed-1aa2-4f82-8c65-ae158594b17b:32' labels=frozenset({'UploadedReport'}) properties={'uploaded_at': neo4j.time.DateTime(2025, 6, 24, 10, 34, 46, 276000000, tzinfo=<UTC>), 'type': 'lab', 'url': 'http://localhost:8888/seaweedfs/C010_lab_BTech_Laavanya_Mishra.pdf'}>>\n"
     ]
    }
   ],
   "source": [
    "uri = \"neo4j+s://af6b3f00.databases.neo4j.io\"\n",
    "user = \"neo4j\"\n",
    "password = \"6SAddHRZhUD4XFxGkOhIRAHBTwzhIXvt_e8kLP1WhZ8\"\n",
    "\n",
    "driver = GraphDatabase.driver(uri, auth=(user, password))\n",
    "\n",
    "with driver.session() as session:\n",
    "    result = session.run(\"\"\"\n",
    "       MATCH (r:Report)\n",
    "    REMOVE r:Report\n",
    "    SET r:UploadedReport\n",
    "    RETURN r\n",
    "    \"\"\")\n",
    "    for record in result:\n",
    "        print(record)"
   ]
  },
  {
   "cell_type": "code",
   "execution_count": 13,
   "id": "a679f24b",
   "metadata": {},
   "outputs": [],
   "source": [
    "uri = \"neo4j+s://af6b3f00.databases.neo4j.io\"\n",
    "user = \"neo4j\"\n",
    "password = \"6SAddHRZhUD4XFxGkOhIRAHBTwzhIXvt_e8kLP1WhZ8\"\n",
    "\n",
    "driver = GraphDatabase.driver(uri, auth=(user, password))\n",
    "\n",
    "\n",
    "with driver.session() as session:\n",
    "    result = session.run(\"\"\"\n",
    "        MATCH (d:Doctor {id: $doctor_id})-[:HANDLES]->(:Case)-[:BELONGS_TO]->(p:Patient)\n",
    "        RETURN DISTINCT p.id AS patient_id, p.name AS patient_name\n",
    "        ORDER BY p.name\n",
    "    \"\"\", {\"doctor_id\": 'D004'})\n",
    "    patients = [{\"id\": r[\"patient_id\"], \"name\": r[\"patient_name\"]} for r in result]"
   ]
  },
  {
   "cell_type": "code",
   "execution_count": 14,
   "id": "0fcc416e",
   "metadata": {},
   "outputs": [
    {
     "data": {
      "text/plain": [
       "[{'id': 'P010', 'name': 'Arjun Malhotra'},\n",
       " {'id': 'P011', 'name': 'Priya Desai'},\n",
       " {'id': 'P013', 'name': 'Reyhan Ali'}]"
      ]
     },
     "execution_count": 14,
     "metadata": {},
     "output_type": "execute_result"
    }
   ],
   "source": [
    "patients"
   ]
  },
  {
   "cell_type": "code",
   "execution_count": 15,
   "id": "ed678f94",
   "metadata": {},
   "outputs": [],
   "source": [
    "uri = \"neo4j+s://af6b3f00.databases.neo4j.io\"\n",
    "user = \"neo4j\"\n",
    "password = \"6SAddHRZhUD4XFxGkOhIRAHBTwzhIXvt_e8kLP1WhZ8\"\n",
    "\n",
    "driver = GraphDatabase.driver(uri, auth=(user, password))\n",
    "\n",
    "with driver.session() as session:\n",
    "    # Create indexes for faster queries\n",
    "    session.run(\"CREATE INDEX feedback_case_id_index IF NOT EXISTS FOR (f:Feedback) ON (f.case_id)\")\n",
    "    session.run(\"CREATE INDEX feedback_doctor_id_index IF NOT EXISTS FOR (f:Feedback) ON (f.doctor_id)\")\n",
    "\n",
    "    # Example: Create a feedback node (run this for each test case/doctor)\n",
    "    session.run(\"\"\"\n",
    "        MERGE (c:Case {case_id: $case_id})\n",
    "        MERGE (d:Doctor {id: $doctor_id})\n",
    "        MERGE (f:Feedback {case_id: $case_id, doctor_id: $doctor_id})\n",
    "        SET f.is_good_response = true,\n",
    "            f.created_at = datetime(),\n",
    "            f.last_updated = datetime()\n",
    "        MERGE (c)-[:HAS_FEEDBACK]->(f)\n",
    "        MERGE (d)-[:GAVE_FEEDBACK]->(f)\n",
    "    \"\"\", {\"case_id\": \"C001\", \"doctor_id\": \"D001\"})"
   ]
  },
  {
   "cell_type": "code",
   "execution_count": 17,
   "id": "621a0913",
   "metadata": {},
   "outputs": [
    {
     "name": "stdout",
     "output_type": "stream",
     "text": [
      "✅ Feedback nodes updated.\n"
     ]
    }
   ],
   "source": [
    "with driver.session() as session:\n",
    "    session.run(\"\"\"\n",
    "        MATCH (f:Feedback)\n",
    "        WHERE f.is_good IS NOT NULL\n",
    "        SET f.is_good_response = f.is_good\n",
    "        REMOVE f.is_good\n",
    "    \"\"\")\n",
    "print(\"✅ Feedback nodes updated.\")"
   ]
  },
  {
   "cell_type": "code",
   "execution_count": 32,
   "id": "39784660",
   "metadata": {},
   "outputs": [],
   "source": [
    "uri = \"neo4j+s://af6b3f00.databases.neo4j.io\"\n",
    "user = \"neo4j\"\n",
    "password = \"6SAddHRZhUD4XFxGkOhIRAHBTwzhIXvt_e8kLP1WhZ8\"\n",
    "\n",
    "driver = GraphDatabase.driver(uri, auth=(user, password))\n",
    "\n",
    "with driver.session() as session:\n",
    "    # Create indexes for faster queries\n",
    "    session.run(\"CREATE INDEX feedback_case_id_index IF NOT EXISTS FOR (f:Feedback) ON (f.case_id)\")\n",
    "    session.run(\"CREATE INDEX feedback_doctor_id_index IF NOT EXISTS FOR (f:Feedback) ON (f.doctor_id)\")\n",
    "\n",
    "    # Example: Create a feedback node (run this for each test case/doctor)\n",
    "    session.run(\"\"\"\n",
    "        CREATE (f:Feedback {\n",
    "        case_id: 'C001',\n",
    "        doctor_id: 'D004',\n",
    "        is_good_response: true,\n",
    "        timestamp: datetime()\n",
    "})\"\"\")"
   ]
  },
  {
   "cell_type": "code",
   "execution_count": 34,
   "id": "e7d7e699",
   "metadata": {},
   "outputs": [],
   "source": [
    "uri = \"neo4j+s://af6b3f00.databases.neo4j.io\"\n",
    "user = \"neo4j\"\n",
    "password = \"6SAddHRZhUD4XFxGkOhIRAHBTwzhIXvt_e8kLP1WhZ8\"\n",
    "\n",
    "driver = GraphDatabase.driver(uri, auth=(user, password))\n",
    "\n",
    "with driver.session() as session:\n",
    "    # Create indexes for faster queries\n",
    "    session.run(\"CREATE INDEX feedback_case_id_index IF NOT EXISTS FOR (f:Feedback) ON (f.case_id)\")\n",
    "    session.run(\"CREATE INDEX feedback_doctor_id_index IF NOT EXISTS FOR (f:Feedback) ON (f.doctor_id)\")\n",
    "\n",
    "    # Example: Create a feedback node (run this for each test case/doctor)\n",
    "    session.run(\"\"\"\n",
    "        MATCH (f:Feedback)\n",
    "        RETURN f.case_id, f.doctor_id, f.is_good_response, f.timestamp\n",
    "\"\"\")"
   ]
  },
  {
   "cell_type": "code",
   "execution_count": 35,
   "id": "f4c49701",
   "metadata": {},
   "outputs": [],
   "source": [
    "uri = \"neo4j+s://af6b3f00.databases.neo4j.io\"\n",
    "user = \"neo4j\"\n",
    "password = \"6SAddHRZhUD4XFxGkOhIRAHBTwzhIXvt_e8kLP1WhZ8\"\n",
    "\n",
    "driver = GraphDatabase.driver(uri, auth=(user, password))\n",
    "\n",
    "with driver.session() as session:\n",
    "    # Example: Create a feedback node (run this for each test case/doctor)\n",
    "    session.run(\"\"\"\n",
    "        CREATE (:Feedback {\n",
    "  case_id: \"C001\",\n",
    "  doctor_id: \"D004\",\n",
    "  is_good_response: true,\n",
    "  timestamp: datetime()\n",
    "})\n",
    "\"\"\")"
   ]
  },
  {
   "cell_type": "code",
   "execution_count": 39,
   "id": "4dfabcb1",
   "metadata": {},
   "outputs": [
    {
     "name": "stdout",
     "output_type": "stream",
     "text": [
      "<Record f.case_id='C001' f.doctor_id='D004' f.is_good_response=True f.timestamp=neo4j.time.DateTime(2025, 6, 25, 16, 45, 10, 179000000, tzinfo=<UTC>)>\n"
     ]
    }
   ],
   "source": [
    "with driver.session() as session:\n",
    "    result = session.run(\"\"\"\n",
    "        MATCH (f:Feedback)\n",
    "        RETURN f.case_id, f.doctor_id, f.is_good_response, f.timestamp\n",
    "    \"\"\")\n",
    "    for record in result:\n",
    "        print(record)"
   ]
  },
  {
   "cell_type": "code",
   "execution_count": 38,
   "id": "be9e726f",
   "metadata": {},
   "outputs": [
    {
     "name": "stdout",
     "output_type": "stream",
     "text": [
      "✅ One duplicate Feedback record deleted.\n"
     ]
    }
   ],
   "source": [
    "with driver.session() as session:\n",
    "    session.run(\"\"\"\n",
    "        MATCH (f:Feedback {case_id: $case_id, doctor_id: $doctor_id})\n",
    "        WITH f ORDER BY f.timestamp\n",
    "        LIMIT 1\n",
    "        DETACH DELETE f\n",
    "    \"\"\", {\"case_id\": \"C001\", \"doctor_id\": \"D004\"})\n",
    "print(\"✅ One duplicate Feedback record deleted.\")"
   ]
  },
  {
   "cell_type": "code",
   "execution_count": 40,
   "id": "d0599551",
   "metadata": {},
   "outputs": [
    {
     "name": "stdout",
     "output_type": "stream",
     "text": [
      "<Record f.case_id='C001' f.doctor_id='D004' f.is_good_response=True f.timestamp=neo4j.time.DateTime(2025, 6, 25, 16, 45, 10, 179000000, tzinfo=<UTC>)>\n"
     ]
    }
   ],
   "source": [
    "with driver.session() as session:\n",
    "    result = session.run(\"\"\"\n",
    "        MATCH (f:Feedback)\n",
    "        RETURN f.case_id, f.doctor_id, f.is_good_response, f.timestamp\n",
    "    \"\"\")\n",
    "    for record in result:\n",
    "        print(record)"
   ]
  },
  {
   "cell_type": "code",
   "execution_count": 42,
   "id": "e40d80ad",
   "metadata": {},
   "outputs": [],
   "source": [
    "with open(\"feedback_store.jsonl\", \"a\") as f:\n",
    "    pass  # creates an empty file"
   ]
  },
  {
   "cell_type": "code",
   "execution_count": 47,
   "id": "a608426b",
   "metadata": {},
   "outputs": [
    {
     "name": "stdout",
     "output_type": "stream",
     "text": [
      "['http://localhost:8888/seaweedfs/C011_clinical_insight_20250626_152611.pdf', 'http://localhost:8888/seaweedfs/C011_clinical_insight_20250625_150213.pdf', 'http://localhost:8888/seaweedfs/C011_clinical_insight_20250625_230512.pdf', 'http://localhost:8888/seaweedfs/C011_clinical_insight_20250626_152157.pdf', 'http://localhost:8888/seaweedfs/C011_clinical_insight_20250626_153145.pdf', 'http://localhost:8888/seaweedfs/C011_scan_Breast-Cancer.jpg', 'http://localhost:8888/seaweedfs/C011_scan_1-036.dcm', 'http://localhost:8888/seaweedfs/C011_clinical_insight_20250626_154418.pdf']\n"
     ]
    }
   ],
   "source": [
    "uri = \"neo4j+s://af6b3f00.databases.neo4j.io\"\n",
    "user = \"neo4j\"\n",
    "password = \"6SAddHRZhUD4XFxGkOhIRAHBTwzhIXvt_e8kLP1WhZ8\"\n",
    "\n",
    "driver = GraphDatabase.driver(uri, auth=(user, password))\n",
    "\n",
    "\n",
    "query = \"\"\"\n",
    "MATCH (c:Case {case_id: $case_id})-[:HAS_REPORT]->(r:UploadedReport)\n",
    "RETURN r.url AS report_url, r.type AS report_type, r.uploaded_at AS uploaded_at\n",
    "\"\"\"\n",
    "\n",
    "with driver.session() as session:\n",
    "    result = session.run(query, {\"case_id\": \"C011\"})\n",
    "    urls = [record[\"report_url\"] for record in result]\n",
    "    print(urls)"
   ]
  },
  {
   "cell_type": "code",
   "execution_count": 46,
   "id": "f07c8eaf",
   "metadata": {},
   "outputs": [
    {
     "name": "stdout",
     "output_type": "stream",
     "text": [
      "✅ Duplicate report removed.\n"
     ]
    }
   ],
   "source": [
    "with driver.session() as session:\n",
    "    session.run(\"\"\"\n",
    "        MATCH (c:Case {case_id: 'C011'})-[:HAS_REPORT]->(r:UploadedReport)\n",
    "        WHERE r.url = 'http://localhost:8888/seaweedfs/C011_clinical_insight_20250626_154700.pdf'\n",
    "        DETACH DELETE r\n",
    "    \"\"\")\n",
    "print(\"✅ Duplicate report removed.\")"
   ]
  }
 ],
 "metadata": {
  "kernelspec": {
   "display_name": "base",
   "language": "python",
   "name": "python3"
  },
  "language_info": {
   "codemirror_mode": {
    "name": "ipython",
    "version": 3
   },
   "file_extension": ".py",
   "mimetype": "text/x-python",
   "name": "python",
   "nbconvert_exporter": "python",
   "pygments_lexer": "ipython3",
   "version": "3.11.5"
  }
 },
 "nbformat": 4,
 "nbformat_minor": 5
}
