{
 "cells": [
  {
   "cell_type": "code",
   "execution_count": 3,
   "id": "26d17d06",
   "metadata": {},
   "outputs": [
    {
     "name": "stdout",
     "output_type": "stream",
     "text": [
      "Recording...\n",
      "Recording finished.\n",
      "Saved to output_clean.wav\n"
     ]
    }
   ],
   "source": [
    "import sounddevice as sd\n",
    "import numpy as np\n",
    "import noisereduce as nr\n",
    "\n",
    "import scipy.io.wavfile as wav\n",
    "\n",
    "duration = 15  # seconds\n",
    "fs = 44100  # Sample rate\n",
    "\n",
    "print(\"Recording...\")\n",
    "recording = sd.rec(int(duration * fs), samplerate=fs, channels=1, dtype='float32')\n",
    "sd.wait()\n",
    "print(\"Recording finished.\")\n",
    "\n",
    "# Flatten to 1D array for noisereduce\n",
    "audio = recording.flatten()\n",
    "\n",
    "# Estimate noise from the first 0.5 seconds\n",
    "noise_sample = audio[:int(0.5 * fs)]\n",
    "\n",
    "# Apply noise reduction\n",
    "reduced_noise = nr.reduce_noise(y=audio, y_noise=noise_sample, sr=fs)\n",
    "\n",
    "# Save to file\n",
    "wav.write(\"output_clean.wav\", fs, reduced_noise.astype(np.float32))\n",
    "print(\"Saved to output_clean.wav\")"
   ]
  },
  {
   "cell_type": "code",
   "execution_count": 5,
   "id": "25379411",
   "metadata": {},
   "outputs": [
    {
     "name": "stdout",
     "output_type": "stream",
     "text": [
      "Recording...\n",
      "Recording finished.\n",
      "Saved to output_clean.wav\n"
     ]
    }
   ],
   "source": [
    "import sounddevice as sd\n",
    "import numpy as np\n",
    "import noisereduce as nr\n",
    "\n",
    "import scipy.io.wavfile as wav\n",
    "\n",
    "duration = 15  # seconds\n",
    "fs = 44100  # Sample rate\n",
    "\n",
    "print(\"Recording...\")\n",
    "recording = sd.rec(int(duration * fs), samplerate=fs, channels=1, dtype='float32')\n",
    "sd.wait()\n",
    "print(\"Recording finished.\")\n",
    "\n",
    "# Flatten to 1D array for noisereduce\n",
    "audio = recording.flatten()\n",
    "\n",
    "# Estimate noise from the first 0.5 seconds\n",
    "noise_sample = audio[:int(0.5 * fs)]\n",
    "\n",
    "# Apply noise reduction\n",
    "reduced_noise = nr.reduce_noise(y=audio, y_noise=noise_sample, sr=fs)\n",
    "\n",
    "# Save to file\n",
    "wav.write(\"transcription1.wav\", fs, reduced_noise.astype(np.float32))\n",
    "print(\"Saved to output_clean.wav\")"
   ]
  },
  {
   "cell_type": "code",
   "execution_count": null,
   "id": "975d8684",
   "metadata": {},
   "outputs": [],
   "source": []
  }
 ],
 "metadata": {
  "kernelspec": {
   "display_name": "base",
   "language": "python",
   "name": "python3"
  },
  "language_info": {
   "codemirror_mode": {
    "name": "ipython",
    "version": 3
   },
   "file_extension": ".py",
   "mimetype": "text/x-python",
   "name": "python",
   "nbconvert_exporter": "python",
   "pygments_lexer": "ipython3",
   "version": "3.11.5"
  }
 },
 "nbformat": 4,
 "nbformat_minor": 5
}
